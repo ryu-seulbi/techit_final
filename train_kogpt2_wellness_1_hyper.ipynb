{
 "cells": [
  {
   "cell_type": "code",
   "execution_count": null,
   "metadata": {
    "colab": {
     "base_uri": "https://localhost:8080/"
    },
    "executionInfo": {
     "elapsed": 16568,
     "status": "ok",
     "timestamp": 1706059264072,
     "user": {
      "displayName": "Seulbi Ryu",
      "userId": "10359868065208831031"
     },
     "user_tz": -540
    },
    "id": "Chb988EjqwEt",
    "outputId": "e9873702-7964-4df6-d5f2-406e42427d68"
   },
   "outputs": [
    {
     "name": "stdout",
     "output_type": "stream",
     "text": [
      "Mounted at /content/drive\n"
     ]
    }
   ],
   "source": [
    "from google.colab import drive\n",
    "drive.mount('/content/drive')"
   ]
  },
  {
   "cell_type": "code",
   "execution_count": null,
   "metadata": {
    "id": "C2a2lpJCsjW4"
   },
   "outputs": [],
   "source": [
    "# module, library import\n",
    "\n",
    "# dataloader\n",
    "import torch\n",
    "import torch.nn as nn\n",
    "from torch.utils.data import Dataset\n",
    "from kogpt2_transformers import get_kogpt2_tokenizer\n",
    "\n",
    "# model configuration\n",
    "import logging\n",
    "from transformers.configuration_utils import PretrainedConfig\n",
    "from transformers import GPT2Config\n",
    "\n",
    "# model\n",
    "# import torch.nn as nn\n",
    "from kogpt2_transformers import get_kogpt2_model\n",
    "\n",
    "# train\n",
    "import sys\n",
    "sys.path.append('/content/drive/MyDrive/my_ws/project/aischool-final')\n",
    "sys.path.append('/content/drive/MyDrive/my_ws/project/aischool-final/dialogLM')\n",
    "\n",
    "import os\n",
    "import numpy as np\n",
    "from tqdm import tqdm\n",
    "\n",
    "# import torch\n",
    "from torch.utils.data import dataloader"
   ]
  },
  {
   "cell_type": "code",
   "execution_count": null,
   "metadata": {
    "colab": {
     "base_uri": "https://localhost:8080/"
    },
    "executionInfo": {
     "elapsed": 4,
     "status": "ok",
     "timestamp": 1706059288589,
     "user": {
      "displayName": "Seulbi Ryu",
      "userId": "10359868065208831031"
     },
     "user_tz": -540
    },
    "id": "_BZprHmPuVl0",
    "outputId": "60afa5e1-4cdd-440f-ab0c-a79ae09086ff"
   },
   "outputs": [
    {
     "data": {
      "text/plain": [
       "True"
      ]
     },
     "execution_count": 5,
     "metadata": {},
     "output_type": "execute_result"
    }
   ],
   "source": [
    "torch.cuda.is_available()"
   ]
  },
  {
   "cell_type": "code",
   "execution_count": null,
   "metadata": {
    "id": "Etwh81tzrCYb"
   },
   "outputs": [],
   "source": [
    "# dataloader\n",
    "class WellnessAutoRegressiveDataset(Dataset):\n",
    "  \"\"\"Wellness Auto Regressive Dataset\"\"\"\n",
    "  def __init__(self,\n",
    "               file_path,\n",
    "               n_ctx = 1024\n",
    "               ):\n",
    "    self.file_path = file_path\n",
    "    self.data =[]\n",
    "    self.tokenizer = get_kogpt2_tokenizer()\n",
    "\n",
    "    bos_token_id = [self.tokenizer.bos_token_id]\n",
    "    eos_token_id = [self.tokenizer.eos_token_id]\n",
    "    pad_token_id = [self.tokenizer.pad_token_id]\n",
    "\n",
    "    file = open(self.file_path, 'r', encoding='utf-8')\n",
    "\n",
    "    while True:\n",
    "      line = file.readline()\n",
    "      if not line:\n",
    "        break\n",
    "      datas = line.split(\"    \")\n",
    "      index_of_words = bos_token_id +self.tokenizer.encode(datas[0]) + eos_token_id + bos_token_id + self.tokenizer.encode(datas[1][:-1])+ eos_token_id\n",
    "      pad_token_len = n_ctx - len(index_of_words)\n",
    "\n",
    "      index_of_words += pad_token_id * pad_token_len\n",
    "\n",
    "      self.data.append(index_of_words)\n",
    "\n",
    "    file.close()\n",
    "\n",
    "  def __len__(self):\n",
    "    return len(self.data)\n",
    "\n",
    "  def __getitem__(self,index):\n",
    "    item = self.data[index]\n",
    "    return item\n",
    "\n",
    "\n",
    "# model configuration\n",
    "logger = logging.getLogger(__name__)\n",
    "\n",
    "#KoGPT2\n",
    "kogpt2_config = {\n",
    "    \"initializer_range\": 0.02,\n",
    "    \"layer_norm_epsilon\": 1e-08,\n",
    "    \"n_ctx\": 1024,\n",
    "    \"n_embd\": 768,\n",
    "    \"n_head\": 12,\n",
    "    \"n_layer\": 12,\n",
    "    \"n_positions\": 1024,\n",
    "    \"vocab_size\": 50000,\n",
    "    \"activation_function\": \"gelu\"\n",
    "}\n",
    "\n",
    "def get_kogpt2_config():\n",
    "    return GPT2Config.from_dict(kogpt2_config)\n",
    "\n",
    "\n",
    "# model\n",
    "class DialogKoGPT2(nn.Module):\n",
    "  def __init__(self):\n",
    "    super(DialogKoGPT2, self).__init__()\n",
    "    self.kogpt2 = get_kogpt2_model()\n",
    "\n",
    "  def generate(self,\n",
    "               input_ids,\n",
    "               do_sample=True,\n",
    "               max_length= 60,\n",
    "               top_p=1,\n",
    "               top_k=50,\n",
    "               temperature= 0.6,\n",
    "               no_repeat_ngram_size=2,\n",
    "               num_return_sequences=1,\n",
    "               early_stopping=True,\n",
    "               ):\n",
    "    return self.kogpt2.generate(input_ids,\n",
    "               do_sample=do_sample,\n",
    "               max_length=max_length,\n",
    "               top_p = top_p,\n",
    "               top_k=top_k,\n",
    "               temperature=temperature,\n",
    "               no_repeat_ngram_size= no_repeat_ngram_size,\n",
    "               num_return_sequences=num_return_sequences,\n",
    "               early_stopping = early_stopping,\n",
    "              )\n",
    "\n",
    "  def forward(self, input, labels = None):\n",
    "    if labels is not None:\n",
    "      outputs = self.kogpt2(input, labels=labels)\n",
    "    else:\n",
    "      outputs = self.kogpt2(input)\n",
    "\n",
    "    return outputs"
   ]
  },
  {
   "cell_type": "markdown",
   "metadata": {
    "id": "wI01VY0h9DHH"
   },
   "source": [
    "### Training(first) : T4 GPU"
   ]
  },
  {
   "cell_type": "code",
   "execution_count": null,
   "metadata": {
    "colab": {
     "base_uri": "https://localhost:8080/",
     "height": 379,
     "referenced_widgets": [
      "82c05aaf40e64dd39ee3f93b3c7e7dde",
      "f787e299910f44798485f66c6de4ddef",
      "a0c2b03800944a46af2ff232b4238ad1",
      "464738304b4946f5aa0ed2ba9ba0440a",
      "074f6ce7d9e646ea9a8268db02f1ad6e",
      "2b8d9cb5257f49028ac22f92a0fd841b",
      "6af80f025a3a4ce19c9d3fd8649580dd",
      "b4fafe2f0e3b4d538f70e56323b638be",
      "85ce2b2083354241abbe0512247cf2fd",
      "dac21ae2dd6e4c979eb028238e8ea2df",
      "3c7a20fe107143019202d169beee8e5d",
      "cbc326b7830748a7991efd6504532935",
      "f9e47383d24c481ea4ac0d7f228e255c",
      "12dac862ca8240da88c5a763fca22a83",
      "d6ba87c661c44dbeb8a5b96963a185ce",
      "96a2e55025ad42698d232b8139b40657",
      "53890dad54eb42858e1fb6908283c0c4",
      "a11ecda67a2b4d97afc407bc08fb0f66",
      "98884935b378471e88d5d7648a80904b",
      "0200f6268c754740acb124b072b7fdf1",
      "821b9c8db3d040f5971c4a2ae3a550ad",
      "f67c99c403d2443fa857757390999948"
     ]
    },
    "id": "ry6nr-oRtNDz",
    "outputId": "0e662982-e7fc-4cc5-b3e3-8d029d40abdc"
   },
   "outputs": [
    {
     "data": {
      "application/vnd.jupyter.widget-view+json": {
       "model_id": "82c05aaf40e64dd39ee3f93b3c7e7dde",
       "version_major": 2,
       "version_minor": 0
      },
      "text/plain": [
       "config.json:   0%|          | 0.00/577 [00:00<?, ?B/s]"
      ]
     },
     "metadata": {},
     "output_type": "display_data"
    },
    {
     "name": "stderr",
     "output_type": "stream",
     "text": [
      "The tokenizer class you load from this checkpoint is not the same type as the class this function is called from. It may result in unexpected tokenization. \n",
      "The tokenizer class you load from this checkpoint is 'GPT2Tokenizer'. \n",
      "The class this function is called from is 'PreTrainedTokenizerFast'.\n",
      "The tokenizer class you load from this checkpoint is not the same type as the class this function is called from. It may result in unexpected tokenization. \n",
      "The tokenizer class you load from this checkpoint is 'GPT2Tokenizer'. \n",
      "The class this function is called from is 'PreTrainedTokenizerFast'.\n"
     ]
    },
    {
     "data": {
      "application/vnd.jupyter.widget-view+json": {
       "model_id": "cbc326b7830748a7991efd6504532935",
       "version_major": 2,
       "version_minor": 0
      },
      "text/plain": [
       "model.safetensors:   0%|          | 0.00/510M [00:00<?, ?B/s]"
      ]
     },
     "metadata": {},
     "output_type": "display_data"
    },
    {
     "name": "stderr",
     "output_type": "stream",
     "text": [
      "Train(0): 100%|██████████| 6343/6343 [1:27:14<00:00,  1.21it/s, Loss: 0.736 (1.740)]\n",
      "Validation: 100%|██████████| 793/793 [03:22<00:00,  3.91it/s, Validation Loss: 2.112 (1.128)]\n"
     ]
    },
    {
     "name": "stdout",
     "output_type": "stream",
     "text": [
      "Validation Loss (Epoch 1): 1.128\n"
     ]
    },
    {
     "name": "stderr",
     "output_type": "stream",
     "text": [
      "Train(1): 100%|██████████| 6343/6343 [1:27:48<00:00,  1.20it/s, Loss: 0.593 (1.247)]\n",
      "Validation: 100%|██████████| 793/793 [03:23<00:00,  3.90it/s, Validation Loss: 1.941 (0.964)]\n"
     ]
    },
    {
     "name": "stdout",
     "output_type": "stream",
     "text": [
      "Validation Loss (Epoch 2): 0.964\n"
     ]
    },
    {
     "name": "stderr",
     "output_type": "stream",
     "text": [
      "Train(2): 100%|██████████| 6343/6343 [1:28:11<00:00,  1.20it/s, Loss: 0.618 (1.025)]\n",
      "Validation: 100%|██████████| 793/793 [03:22<00:00,  3.92it/s, Validation Loss: 2.127 (0.884)]\n"
     ]
    },
    {
     "name": "stdout",
     "output_type": "stream",
     "text": [
      "Validation Loss (Epoch 3): 0.884\n"
     ]
    },
    {
     "name": "stderr",
     "output_type": "stream",
     "text": [
      "Train(3):  98%|█████████▊| 6212/6343 [1:29:23<01:34,  1.38it/s, Loss: 0.623 (0.902)]"
     ]
    }
   ],
   "source": [
    "## at the first time of Training\n",
    "root_path = '/content/drive/MyDrive/my_ws/project/aischool-final/dialogLM'\n",
    "train_data_path = f\"{root_path}/data/wellness_dialog_for_autoregressive_train.txt\"\n",
    "val_data_path = f\"{root_path}/data/wellness_dialog_for_autoregressive_validation.txt\"\n",
    "save_ckpt_path = f\"{root_path}/checkpoint/kogpt2-wellnesee-auto-regressive_hyper.pth\"\n",
    "\n",
    "batch_size = 2\n",
    "ctx = \"cuda\" if torch.cuda.is_available() else \"cpu\"\n",
    "device = torch.device(ctx)\n",
    "\n",
    "n_epoch = 10\n",
    "save_step = 100\n",
    "learning_rate = 3e-4\n",
    "\n",
    "# Training data loader\n",
    "train_dataset = WellnessAutoRegressiveDataset(train_data_path)\n",
    "train_loader = torch.utils.data.DataLoader(train_dataset, batch_size=batch_size, shuffle=True)\n",
    "\n",
    "# Validation data loader\n",
    "val_dataset = WellnessAutoRegressiveDataset(val_data_path)\n",
    "val_loader = torch.utils.data.DataLoader(val_dataset, batch_size=batch_size, shuffle=False)\n",
    "\n",
    "# Model initialization\n",
    "model = DialogKoGPT2()\n",
    "model.to(device)\n",
    "\n",
    "# Loss function and optimizer\n",
    "loss_fct = torch.nn.CrossEntropyLoss(ignore_index=3)\n",
    "optimizer = torch.optim.Adam(model.parameters(), lr=learning_rate)\n",
    "\n",
    "# Training loop\n",
    "losses = []\n",
    "val_losses = []\n",
    "\n",
    "for epoch in range(n_epoch):\n",
    "    count = 0\n",
    "    with tqdm(total=len(train_loader), desc=f\"Train({epoch})\") as pbar:\n",
    "        for i, data in enumerate(train_loader):\n",
    "            optimizer.zero_grad()\n",
    "            data = torch.stack(data)\n",
    "            data = data.transpose(1, 0)\n",
    "            data = data.to(ctx)\n",
    "\n",
    "            outputs = model(data, labels=data)\n",
    "            _, logits = outputs[:2]\n",
    "\n",
    "            shift_logits = logits[..., :-1, :].contiguous()\n",
    "            shift_labels = data[..., 1:].contiguous()\n",
    "\n",
    "            loss = loss_fct(shift_logits.view(-1, shift_logits.size(-1)), shift_labels.view(-1))\n",
    "            loss.backward()\n",
    "            optimizer.step()\n",
    "\n",
    "            losses.append(loss.item())\n",
    "\n",
    "            if (count > 0 and count % save_step == 0) or (len(data) < batch_size):\n",
    "                torch.save({\n",
    "                    'epoch': epoch,\n",
    "                    'train_no': count,\n",
    "                    'model_state_dict': model.state_dict(),\n",
    "                    'optimizer_state_dict': optimizer.state_dict(),\n",
    "                    'loss': loss\n",
    "                }, save_ckpt_path)\n",
    "\n",
    "            count += 1\n",
    "            pbar.update(1)\n",
    "            pbar.set_postfix_str(f\"Loss: {loss.item():.3f} ({np.mean(losses):.3f})\")\n",
    "\n",
    "    # Validation loop\n",
    "    with torch.no_grad():\n",
    "        with tqdm(total=len(val_loader), desc=f\"Validation\") as val_pbar:\n",
    "            for j, val_data in enumerate(val_loader):\n",
    "                val_data = torch.stack(val_data)\n",
    "                val_data = val_data.transpose(1, 0)\n",
    "                val_data = val_data.to(ctx)\n",
    "\n",
    "                val_outputs = model(val_data, labels=val_data)\n",
    "                _, val_logits = val_outputs[:2]\n",
    "\n",
    "                val_shift_logits = val_logits[..., :-1, :].contiguous()\n",
    "                val_shift_labels = val_data[..., 1:].contiguous()\n",
    "\n",
    "                val_loss = loss_fct(val_shift_logits.view(-1, val_shift_logits.size(-1)), val_shift_labels.view(-1))\n",
    "                val_losses.append(val_loss.item())\n",
    "\n",
    "                val_pbar.update(1)\n",
    "                val_pbar.set_postfix_str(f\"Validation Loss: {val_loss.item():.3f} ({np.mean(val_losses):.3f})\")\n",
    "\n",
    "    # Print validation loss at the end of each epoch\n",
    "    print(f\"Validation Loss (Epoch {epoch + 1}): {np.mean(val_losses):.3f}\")\n",
    "\n",
    "# End of training"
   ]
  },
  {
   "cell_type": "markdown",
   "metadata": {
    "id": "9M6X-5_X9GgE"
   },
   "source": [
    "### Training(Subsequently) : V100 GPU"
   ]
  },
  {
   "cell_type": "code",
   "execution_count": null,
   "metadata": {
    "colab": {
     "base_uri": "https://localhost:8080/"
    },
    "executionInfo": {
     "elapsed": 10467960,
     "status": "ok",
     "timestamp": 1706070379247,
     "user": {
      "displayName": "Seulbi Ryu",
      "userId": "10359868065208831031"
     },
     "user_tz": -540
    },
    "id": "TNha8dBrxg7t",
    "outputId": "aca6057b-a6f8-47e6-eb9d-b6c379a9bc16"
   },
   "outputs": [
    {
     "name": "stderr",
     "output_type": "stream",
     "text": [
      "The tokenizer class you load from this checkpoint is not the same type as the class this function is called from. It may result in unexpected tokenization. \n",
      "The tokenizer class you load from this checkpoint is 'GPT2Tokenizer'. \n",
      "The class this function is called from is 'PreTrainedTokenizerFast'.\n",
      "The tokenizer class you load from this checkpoint is not the same type as the class this function is called from. It may result in unexpected tokenization. \n",
      "The tokenizer class you load from this checkpoint is 'GPT2Tokenizer'. \n",
      "The class this function is called from is 'PreTrainedTokenizerFast'.\n",
      "Train(3): 100%|██████████| 6343/6343 [27:50<00:00,  3.80it/s, Loss: 0.580 (0.497)]\n",
      "Validation: 100%|██████████| 793/793 [01:02<00:00, 12.77it/s, Validation Loss: 2.192 (0.695)]\n"
     ]
    },
    {
     "name": "stdout",
     "output_type": "stream",
     "text": [
      "Validation Loss (Epoch 4): 0.695\n"
     ]
    },
    {
     "name": "stderr",
     "output_type": "stream",
     "text": [
      "Train(4): 100%|██████████| 6343/6343 [27:49<00:00,  3.80it/s, Loss: 0.415 (0.488)]\n",
      "Validation: 100%|██████████| 793/793 [01:02<00:00, 12.72it/s, Validation Loss: 2.225 (0.689)]\n"
     ]
    },
    {
     "name": "stdout",
     "output_type": "stream",
     "text": [
      "Validation Loss (Epoch 5): 0.689\n"
     ]
    },
    {
     "name": "stderr",
     "output_type": "stream",
     "text": [
      "Train(5): 100%|██████████| 6343/6343 [27:52<00:00,  3.79it/s, Loss: 0.378 (0.481)]\n",
      "Validation: 100%|██████████| 793/793 [01:01<00:00, 12.79it/s, Validation Loss: 2.138 (0.687)]\n"
     ]
    },
    {
     "name": "stdout",
     "output_type": "stream",
     "text": [
      "Validation Loss (Epoch 6): 0.687\n"
     ]
    },
    {
     "name": "stderr",
     "output_type": "stream",
     "text": [
      "Train(6): 100%|██████████| 6343/6343 [28:04<00:00,  3.76it/s, Loss: 0.397 (0.475)]\n",
      "Validation: 100%|██████████| 793/793 [01:02<00:00, 12.76it/s, Validation Loss: 2.208 (0.683)]\n"
     ]
    },
    {
     "name": "stdout",
     "output_type": "stream",
     "text": [
      "Validation Loss (Epoch 7): 0.683\n"
     ]
    },
    {
     "name": "stderr",
     "output_type": "stream",
     "text": [
      "Train(7): 100%|██████████| 6343/6343 [28:06<00:00,  3.76it/s, Loss: 0.438 (0.470)]\n",
      "Validation: 100%|██████████| 793/793 [01:01<00:00, 12.83it/s, Validation Loss: 2.192 (0.680)]\n"
     ]
    },
    {
     "name": "stdout",
     "output_type": "stream",
     "text": [
      "Validation Loss (Epoch 8): 0.680\n"
     ]
    },
    {
     "name": "stderr",
     "output_type": "stream",
     "text": [
      "Train(8): 100%|██████████| 6343/6343 [28:10<00:00,  3.75it/s, Loss: 0.380 (0.465)]\n",
      "Validation: 100%|██████████| 793/793 [01:02<00:00, 12.75it/s, Validation Loss: 2.024 (0.677)]"
     ]
    },
    {
     "name": "stdout",
     "output_type": "stream",
     "text": [
      "Validation Loss (Epoch 9): 0.677\n"
     ]
    },
    {
     "name": "stderr",
     "output_type": "stream",
     "text": [
      "\n"
     ]
    }
   ],
   "source": [
    "## Subsequently\n",
    "\n",
    "root_path = '/content/drive/MyDrive/my_ws/project/aischool-final/dialogLM'\n",
    "train_data_path = f\"{root_path}/data/wellness_dialog_for_autoregressive_train.txt\"\n",
    "val_data_path = f\"{root_path}/data/wellness_dialog_for_autoregressive_validation.txt\"\n",
    "save_ckpt_path = f\"{root_path}/checkpoint/kogpt2-wellnesee-auto-regressive_hyper.pth\"\n",
    "\n",
    "batch_size = 2\n",
    "ctx = \"cuda\" if torch.cuda.is_available() else \"cpu\"\n",
    "device = torch.device(ctx)\n",
    "\n",
    "n_epoch = 10\n",
    "save_step = 100\n",
    "learning_rate = 3e-4\n",
    "\n",
    "# Training data loader\n",
    "train_dataset = WellnessAutoRegressiveDataset(train_data_path)\n",
    "train_loader = torch.utils.data.DataLoader(train_dataset, batch_size=batch_size, shuffle=True)\n",
    "\n",
    "# Validation data loader\n",
    "val_dataset = WellnessAutoRegressiveDataset(val_data_path)\n",
    "val_loader = torch.utils.data.DataLoader(val_dataset, batch_size=batch_size, shuffle=False)\n",
    "\n",
    "# Model initialization\n",
    "model = DialogKoGPT2()\n",
    "model.to(device)\n",
    "\n",
    "# Loss function and optimizer\n",
    "loss_fct = torch.nn.CrossEntropyLoss(ignore_index=3)\n",
    "optimizer = torch.optim.Adam(model.parameters(), lr=learning_rate)\n",
    "\n",
    "# Get the model you trained before\n",
    "if os.path.isfile(save_ckpt_path):\n",
    "  checkpoint = torch.load(save_ckpt_path, map_location=device)\n",
    "  model.load_state_dict(checkpoint['model_state_dict'])\n",
    "  optimizer.load_state_dict(checkpoint['optimizer_state_dict'])\n",
    "  start_epoch = checkpoint['epoch']\n",
    "  start_train_no = checkpoint['train_no'] + 1  # starting from the next loop\n",
    "\n",
    "  n_epoch_additional = 6  # Modify to the remaining number of times\n",
    "\n",
    "  # Training loop\n",
    "  losses = []\n",
    "  val_losses = []\n",
    "\n",
    "  for epoch in range(start_epoch, start_epoch + n_epoch_additional):\n",
    "      count = start_train_no\n",
    "      with tqdm(total=len(train_loader), desc=f\"Train({epoch})\") as pbar:\n",
    "          for i, data in enumerate(train_loader):\n",
    "              optimizer.zero_grad()\n",
    "              data = torch.stack(data)\n",
    "              data = data.transpose(1, 0)\n",
    "              data = data.to(ctx)\n",
    "\n",
    "              outputs = model(data, labels=data)\n",
    "              _, logits = outputs[:2]\n",
    "\n",
    "              shift_logits = logits[..., :-1, :].contiguous()\n",
    "              shift_labels = data[..., 1:].contiguous()\n",
    "\n",
    "              loss = loss_fct(shift_logits.view(-1, shift_logits.size(-1)), shift_labels.view(-1))\n",
    "              loss.backward()\n",
    "              optimizer.step()\n",
    "\n",
    "              losses.append(loss.item())\n",
    "\n",
    "              if (count > 0 and count % save_step == 0) or (len(data) < batch_size):\n",
    "                  torch.save({\n",
    "                      'epoch': epoch,\n",
    "                      'train_no': count,\n",
    "                      'model_state_dict': model.state_dict(),\n",
    "                      'optimizer_state_dict': optimizer.state_dict(),\n",
    "                      'loss': loss\n",
    "                  }, save_ckpt_path)\n",
    "\n",
    "              count += 1\n",
    "              pbar.update(1)\n",
    "              pbar.set_postfix_str(f\"Loss: {loss.item():.3f} ({np.mean(losses):.3f})\")\n",
    "\n",
    "      # Validation loop\n",
    "      with torch.no_grad():\n",
    "          with tqdm(total=len(val_loader), desc=f\"Validation\") as val_pbar:\n",
    "              for j, val_data in enumerate(val_loader):\n",
    "                  val_data = torch.stack(val_data)\n",
    "                  val_data = val_data.transpose(1, 0)\n",
    "                  val_data = val_data.to(ctx)\n",
    "\n",
    "                  val_outputs = model(val_data, labels=val_data)\n",
    "                  _, val_logits = val_outputs[:2]\n",
    "\n",
    "                  val_shift_logits = val_logits[..., :-1, :].contiguous()\n",
    "                  val_shift_labels = val_data[..., 1:].contiguous()\n",
    "\n",
    "                  val_loss = loss_fct(val_shift_logits.view(-1, val_shift_logits.size(-1)), val_shift_labels.view(-1))\n",
    "                  val_losses.append(val_loss.item())\n",
    "\n",
    "                  val_pbar.update(1)\n",
    "                  val_pbar.set_postfix_str(f\"Validation Loss: {val_loss.item():.3f} ({np.mean(val_losses):.3f})\")\n",
    "\n",
    "      # Print validation loss at the end of each epoch\n",
    "      print(f\"Validation Loss (Epoch {epoch + 1}): {np.mean(val_losses):.3f}\")\n",
    "\n",
    "  # End of training"
   ]
  },
  {
   "cell_type": "code",
   "execution_count": null,
   "metadata": {
    "id": "iun-pKMZycI9"
   },
   "outputs": [],
   "source": [
    "import pandas as pd\n",
    "import numpy as np\n",
    "loss_train = pd.DataFrame()\n",
    "loss_train['train_loss']=losses\n",
    "loss_train.to_excel('/content/drive/MyDrive/my_ws/project/aischool-final/dialogLM/train_loss.xlsx',index=False)\n",
    "\n",
    "loss_valid = pd.DataFrame()\n",
    "loss_valid['valid_loss']=val_losses\n",
    "loss_valid.to_excel('/content/drive/MyDrive/my_ws/project/aischool-final/dialogLM/valid_loss.xlsx',index=False)"
   ]
  },
  {
   "cell_type": "code",
   "execution_count": null,
   "metadata": {
    "id": "PZ5Rius-zcXn"
   },
   "outputs": [],
   "source": [
    "epoch_list = range(1,10)\n",
    "train_loss = [1.740,1.247, 1.025,0.580,0.488,0.481,0.475,0.470,0.465]\n",
    "valid_loss = [1.128, 0.964, 0.884, 0.695, 0.689,0.687,0.683,0.680,0.677]\n",
    "\n",
    "df = pd.DataFrame(index=epoch_list)\n",
    "df['train_loss']=train_loss\n",
    "df['valid_loss']=valid_loss\n",
    "df.to_excel('/content/drive/MyDrive/my_ws/project/aischool-final/dialogLM/epoch_loss.xlsx',index=False)"
   ]
  },
  {
   "cell_type": "code",
   "execution_count": null,
   "metadata": {
    "colab": {
     "base_uri": "https://localhost:8080/",
     "height": 471
    },
    "executionInfo": {
     "elapsed": 5,
     "status": "ok",
     "timestamp": 1706072783099,
     "user": {
      "displayName": "Seulbi Ryu",
      "userId": "10359868065208831031"
     },
     "user_tz": -540
    },
    "id": "3SK6yaWnvbGk",
    "outputId": "1d5acaa4-8114-45ac-e11e-1af84b709bc6"
   },
   "outputs": [
    {
     "data": {
      "text/plain": [
       "Text(0.5, 0, 'epoch')"
      ]
     },
     "execution_count": 24,
     "metadata": {},
     "output_type": "execute_result"
    },
    {
     "data": {
      "image/png": "[encoded data removed]",
      "text/plain": [
       "<Figure size 640x480 with 1 Axes>"
      ]
     },
     "metadata": {},
     "output_type": "display_data"
    }
   ],
   "source": [
    "plt.plot(epoch_list,train_loss,color='r',label='train loss')\n",
    "plt.plot(epoch_list,valid_loss,color='b',label='valid loss')\n",
    "plt.legend()\n",
    "plt.xlabel('epoch')"
   ]
  },
  {
   "cell_type": "code",
   "execution_count": null,
   "metadata": {
    "colab": {
     "base_uri": "https://localhost:8080/"
    },
    "executionInfo": {
     "elapsed": 3,
     "status": "ok",
     "timestamp": 1706059239622,
     "user": {
      "displayName": "Seulbi Ryu",
      "userId": "10359868065208831031"
     },
     "user_tz": -540
    },
    "id": "SpZbNtRGHA59",
    "outputId": "e19e3ec0-e32c-4a14-a637-b46d0fcbcc80"
   },
   "outputs": [
    {
     "name": "stdout",
     "output_type": "stream",
     "text": [
      "Wed Jan 24 01:20:38 2024       \n",
      "+---------------------------------------------------------------------------------------+\n",
      "| NVIDIA-SMI 535.104.05             Driver Version: 535.104.05   CUDA Version: 12.2     |\n",
      "|-----------------------------------------+----------------------+----------------------+\n",
      "| GPU  Name                 Persistence-M | Bus-Id        Disp.A | Volatile Uncorr. ECC |\n",
      "| Fan  Temp   Perf          Pwr:Usage/Cap |         Memory-Usage | GPU-Util  Compute M. |\n",
      "|                                         |                      |               MIG M. |\n",
      "|=========================================+======================+======================|\n",
      "|   0  Tesla V100-SXM2-16GB           Off | 00000000:00:04.0 Off |                    0 |\n",
      "| N/A   33C    P0              25W / 300W |      0MiB / 16384MiB |      0%      Default |\n",
      "|                                         |                      |                  N/A |\n",
      "+-----------------------------------------+----------------------+----------------------+\n",
      "                                                                                         \n",
      "+---------------------------------------------------------------------------------------+\n",
      "| Processes:                                                                            |\n",
      "|  GPU   GI   CI        PID   Type   Process name                            GPU Memory |\n",
      "|        ID   ID                                                             Usage      |\n",
      "|=======================================================================================|\n",
      "|  No running processes found                                                           |\n",
      "+---------------------------------------------------------------------------------------+\n"
     ]
    }
   ],
   "source": [
    "!nvidia-smi"
   ]
  }
 ],
 "metadata": {
  "colab": {
   "provenance": []
  },
  "kernelspec": {
   "display_name": "Python 3",
   "name": "python3"
  },
  "language_info": {
   "name": "python"
  },
  "widgets": {
   "application/vnd.jupyter.widget-state+json": {
    "0200f6268c754740acb124b072b7fdf1": {
     "model_module": "@jupyter-widgets/controls",
     "model_module_version": "1.5.0",
     "model_name": "ProgressStyleModel",
     "state": {
      "_model_module": "@jupyter-widgets/controls",
      "_model_module_version": "1.5.0",
      "_model_name": "ProgressStyleModel",
      "_view_count": null,
      "_view_module": "@jupyter-widgets/base",
      "_view_module_version": "1.2.0",
      "_view_name": "StyleView",
      "bar_color": null,
      "description_width": ""
     }
    },
    "074f6ce7d9e646ea9a8268db02f1ad6e": {
     "model_module": "@jupyter-widgets/base",
     "model_module_version": "1.2.0",
     "model_name": "LayoutModel",
     "state": {
      "_model_module": "@jupyter-widgets/base",
      "_model_module_version": "1.2.0",
      "_model_name": "LayoutModel",
      "_view_count": null,
      "_view_module": "@jupyter-widgets/base",
      "_view_module_version": "1.2.0",
      "_view_name": "LayoutView",
      "align_content": null,
      "align_items": null,
      "align_self": null,
      "border": null,
      "bottom": null,
      "display": null,
      "flex": null,
      "flex_flow": null,
      "grid_area": null,
      "grid_auto_columns": null,
      "grid_auto_flow": null,
      "grid_auto_rows": null,
      "grid_column": null,
      "grid_gap": null,
      "grid_row": null,
      "grid_template_areas": null,
      "grid_template_columns": null,
      "grid_template_rows": null,
      "height": null,
      "justify_content": null,
      "justify_items": null,
      "left": null,
      "margin": null,
      "max_height": null,
      "max_width": null,
      "min_height": null,
      "min_width": null,
      "object_fit": null,
      "object_position": null,
      "order": null,
      "overflow": null,
      "overflow_x": null,
      "overflow_y": null,
      "padding": null,
      "right": null,
      "top": null,
      "visibility": null,
      "width": null
     }
    },
    "12dac862ca8240da88c5a763fca22a83": {
     "model_module": "@jupyter-widgets/controls",
     "model_module_version": "1.5.0",
     "model_name": "FloatProgressModel",
     "state": {
      "_dom_classes": [],
      "_model_module": "@jupyter-widgets/controls",
      "_model_module_version": "1.5.0",
      "_model_name": "FloatProgressModel",
      "_view_count": null,
      "_view_module": "@jupyter-widgets/controls",
      "_view_module_version": "1.5.0",
      "_view_name": "ProgressView",
      "bar_style": "success",
      "description": "",
      "description_tooltip": null,
      "layout": "IPY_MODEL_98884935b378471e88d5d7648a80904b",
      "max": 509570096,
      "min": 0,
      "orientation": "horizontal",
      "style": "IPY_MODEL_0200f6268c754740acb124b072b7fdf1",
      "value": 509570096
     }
    },
    "2b8d9cb5257f49028ac22f92a0fd841b": {
     "model_module": "@jupyter-widgets/base",
     "model_module_version": "1.2.0",
     "model_name": "LayoutModel",
     "state": {
      "_model_module": "@jupyter-widgets/base",
      "_model_module_version": "1.2.0",
      "_model_name": "LayoutModel",
      "_view_count": null,
      "_view_module": "@jupyter-widgets/base",
      "_view_module_version": "1.2.0",
      "_view_name": "LayoutView",
      "align_content": null,
      "align_items": null,
      "align_self": null,
      "border": null,
      "bottom": null,
      "display": null,
      "flex": null,
      "flex_flow": null,
      "grid_area": null,
      "grid_auto_columns": null,
      "grid_auto_flow": null,
      "grid_auto_rows": null,
      "grid_column": null,
      "grid_gap": null,
      "grid_row": null,
      "grid_template_areas": null,
      "grid_template_columns": null,
      "grid_template_rows": null,
      "height": null,
      "justify_content": null,
      "justify_items": null,
      "left": null,
      "margin": null,
      "max_height": null,
      "max_width": null,
      "min_height": null,
      "min_width": null,
      "object_fit": null,
      "object_position": null,
      "order": null,
      "overflow": null,
      "overflow_x": null,
      "overflow_y": null,
      "padding": null,
      "right": null,
      "top": null,
      "visibility": null,
      "width": null
     }
    },
    "3c7a20fe107143019202d169beee8e5d": {
     "model_module": "@jupyter-widgets/controls",
     "model_module_version": "1.5.0",
     "model_name": "DescriptionStyleModel",
     "state": {
      "_model_module": "@jupyter-widgets/controls",
      "_model_module_version": "1.5.0",
      "_model_name": "DescriptionStyleModel",
      "_view_count": null,
      "_view_module": "@jupyter-widgets/base",
      "_view_module_version": "1.2.0",
      "_view_name": "StyleView",
      "description_width": ""
     }
    },
    "464738304b4946f5aa0ed2ba9ba0440a": {
     "model_module": "@jupyter-widgets/controls",
     "model_module_version": "1.5.0",
     "model_name": "HTMLModel",
     "state": {
      "_dom_classes": [],
      "_model_module": "@jupyter-widgets/controls",
      "_model_module_version": "1.5.0",
      "_model_name": "HTMLModel",
      "_view_count": null,
      "_view_module": "@jupyter-widgets/controls",
      "_view_module_version": "1.5.0",
      "_view_name": "HTMLView",
      "description": "",
      "description_tooltip": null,
      "layout": "IPY_MODEL_dac21ae2dd6e4c979eb028238e8ea2df",
      "placeholder": "​",
      "style": "IPY_MODEL_3c7a20fe107143019202d169beee8e5d",
      "value": " 577/577 [00:00&lt;00:00, 16.6kB/s]"
     }
    },
    "53890dad54eb42858e1fb6908283c0c4": {
     "model_module": "@jupyter-widgets/base",
     "model_module_version": "1.2.0",
     "model_name": "LayoutModel",
     "state": {
      "_model_module": "@jupyter-widgets/base",
      "_model_module_version": "1.2.0",
      "_model_name": "LayoutModel",
      "_view_count": null,
      "_view_module": "@jupyter-widgets/base",
      "_view_module_version": "1.2.0",
      "_view_name": "LayoutView",
      "align_content": null,
      "align_items": null,
      "align_self": null,
      "border": null,
      "bottom": null,
      "display": null,
      "flex": null,
      "flex_flow": null,
      "grid_area": null,
      "grid_auto_columns": null,
      "grid_auto_flow": null,
      "grid_auto_rows": null,
      "grid_column": null,
      "grid_gap": null,
      "grid_row": null,
      "grid_template_areas": null,
      "grid_template_columns": null,
      "grid_template_rows": null,
      "height": null,
      "justify_content": null,
      "justify_items": null,
      "left": null,
      "margin": null,
      "max_height": null,
      "max_width": null,
      "min_height": null,
      "min_width": null,
      "object_fit": null,
      "object_position": null,
      "order": null,
      "overflow": null,
      "overflow_x": null,
      "overflow_y": null,
      "padding": null,
      "right": null,
      "top": null,
      "visibility": null,
      "width": null
     }
    },
    "6af80f025a3a4ce19c9d3fd8649580dd": {
     "model_module": "@jupyter-widgets/controls",
     "model_module_version": "1.5.0",
     "model_name": "DescriptionStyleModel",
     "state": {
      "_model_module": "@jupyter-widgets/controls",
      "_model_module_version": "1.5.0",
      "_model_name": "DescriptionStyleModel",
      "_view_count": null,
      "_view_module": "@jupyter-widgets/base",
      "_view_module_version": "1.2.0",
      "_view_name": "StyleView",
      "description_width": ""
     }
    },
    "821b9c8db3d040f5971c4a2ae3a550ad": {
     "model_module": "@jupyter-widgets/base",
     "model_module_version": "1.2.0",
     "model_name": "LayoutModel",
     "state": {
      "_model_module": "@jupyter-widgets/base",
      "_model_module_version": "1.2.0",
      "_model_name": "LayoutModel",
      "_view_count": null,
      "_view_module": "@jupyter-widgets/base",
      "_view_module_version": "1.2.0",
      "_view_name": "LayoutView",
      "align_content": null,
      "align_items": null,
      "align_self": null,
      "border": null,
      "bottom": null,
      "display": null,
      "flex": null,
      "flex_flow": null,
      "grid_area": null,
      "grid_auto_columns": null,
      "grid_auto_flow": null,
      "grid_auto_rows": null,
      "grid_column": null,
      "grid_gap": null,
      "grid_row": null,
      "grid_template_areas": null,
      "grid_template_columns": null,
      "grid_template_rows": null,
      "height": null,
      "justify_content": null,
      "justify_items": null,
      "left": null,
      "margin": null,
      "max_height": null,
      "max_width": null,
      "min_height": null,
      "min_width": null,
      "object_fit": null,
      "object_position": null,
      "order": null,
      "overflow": null,
      "overflow_x": null,
      "overflow_y": null,
      "padding": null,
      "right": null,
      "top": null,
      "visibility": null,
      "width": null
     }
    },
    "82c05aaf40e64dd39ee3f93b3c7e7dde": {
     "model_module": "@jupyter-widgets/controls",
     "model_module_version": "1.5.0",
     "model_name": "HBoxModel",
     "state": {
      "_dom_classes": [],
      "_model_module": "@jupyter-widgets/controls",
      "_model_module_version": "1.5.0",
      "_model_name": "HBoxModel",
      "_view_count": null,
      "_view_module": "@jupyter-widgets/controls",
      "_view_module_version": "1.5.0",
      "_view_name": "HBoxView",
      "box_style": "",
      "children": [
       "IPY_MODEL_f787e299910f44798485f66c6de4ddef",
       "IPY_MODEL_a0c2b03800944a46af2ff232b4238ad1",
       "IPY_MODEL_464738304b4946f5aa0ed2ba9ba0440a"
      ],
      "layout": "IPY_MODEL_074f6ce7d9e646ea9a8268db02f1ad6e"
     }
    },
    "85ce2b2083354241abbe0512247cf2fd": {
     "model_module": "@jupyter-widgets/controls",
     "model_module_version": "1.5.0",
     "model_name": "ProgressStyleModel",
     "state": {
      "_model_module": "@jupyter-widgets/controls",
      "_model_module_version": "1.5.0",
      "_model_name": "ProgressStyleModel",
      "_view_count": null,
      "_view_module": "@jupyter-widgets/base",
      "_view_module_version": "1.2.0",
      "_view_name": "StyleView",
      "bar_color": null,
      "description_width": ""
     }
    },
    "96a2e55025ad42698d232b8139b40657": {
     "model_module": "@jupyter-widgets/base",
     "model_module_version": "1.2.0",
     "model_name": "LayoutModel",
     "state": {
      "_model_module": "@jupyter-widgets/base",
      "_model_module_version": "1.2.0",
      "_model_name": "LayoutModel",
      "_view_count": null,
      "_view_module": "@jupyter-widgets/base",
      "_view_module_version": "1.2.0",
      "_view_name": "LayoutView",
      "align_content": null,
      "align_items": null,
      "align_self": null,
      "border": null,
      "bottom": null,
      "display": null,
      "flex": null,
      "flex_flow": null,
      "grid_area": null,
      "grid_auto_columns": null,
      "grid_auto_flow": null,
      "grid_auto_rows": null,
      "grid_column": null,
      "grid_gap": null,
      "grid_row": null,
      "grid_template_areas": null,
      "grid_template_columns": null,
      "grid_template_rows": null,
      "height": null,
      "justify_content": null,
      "justify_items": null,
      "left": null,
      "margin": null,
      "max_height": null,
      "max_width": null,
      "min_height": null,
      "min_width": null,
      "object_fit": null,
      "object_position": null,
      "order": null,
      "overflow": null,
      "overflow_x": null,
      "overflow_y": null,
      "padding": null,
      "right": null,
      "top": null,
      "visibility": null,
      "width": null
     }
    },
    "98884935b378471e88d5d7648a80904b": {
     "model_module": "@jupyter-widgets/base",
     "model_module_version": "1.2.0",
     "model_name": "LayoutModel",
     "state": {
      "_model_module": "@jupyter-widgets/base",
      "_model_module_version": "1.2.0",
      "_model_name": "LayoutModel",
      "_view_count": null,
      "_view_module": "@jupyter-widgets/base",
      "_view_module_version": "1.2.0",
      "_view_name": "LayoutView",
      "align_content": null,
      "align_items": null,
      "align_self": null,
      "border": null,
      "bottom": null,
      "display": null,
      "flex": null,
      "flex_flow": null,
      "grid_area": null,
      "grid_auto_columns": null,
      "grid_auto_flow": null,
      "grid_auto_rows": null,
      "grid_column": null,
      "grid_gap": null,
      "grid_row": null,
      "grid_template_areas": null,
      "grid_template_columns": null,
      "grid_template_rows": null,
      "height": null,
      "justify_content": null,
      "justify_items": null,
      "left": null,
      "margin": null,
      "max_height": null,
      "max_width": null,
      "min_height": null,
      "min_width": null,
      "object_fit": null,
      "object_position": null,
      "order": null,
      "overflow": null,
      "overflow_x": null,
      "overflow_y": null,
      "padding": null,
      "right": null,
      "top": null,
      "visibility": null,
      "width": null
     }
    },
    "a0c2b03800944a46af2ff232b4238ad1": {
     "model_module": "@jupyter-widgets/controls",
     "model_module_version": "1.5.0",
     "model_name": "FloatProgressModel",
     "state": {
      "_dom_classes": [],
      "_model_module": "@jupyter-widgets/controls",
      "_model_module_version": "1.5.0",
      "_model_name": "FloatProgressModel",
      "_view_count": null,
      "_view_module": "@jupyter-widgets/controls",
      "_view_module_version": "1.5.0",
      "_view_name": "ProgressView",
      "bar_style": "success",
      "description": "",
      "description_tooltip": null,
      "layout": "IPY_MODEL_b4fafe2f0e3b4d538f70e56323b638be",
      "max": 577,
      "min": 0,
      "orientation": "horizontal",
      "style": "IPY_MODEL_85ce2b2083354241abbe0512247cf2fd",
      "value": 577
     }
    },
    "a11ecda67a2b4d97afc407bc08fb0f66": {
     "model_module": "@jupyter-widgets/controls",
     "model_module_version": "1.5.0",
     "model_name": "DescriptionStyleModel",
     "state": {
      "_model_module": "@jupyter-widgets/controls",
      "_model_module_version": "1.5.0",
      "_model_name": "DescriptionStyleModel",
      "_view_count": null,
      "_view_module": "@jupyter-widgets/base",
      "_view_module_version": "1.2.0",
      "_view_name": "StyleView",
      "description_width": ""
     }
    },
    "b4fafe2f0e3b4d538f70e56323b638be": {
     "model_module": "@jupyter-widgets/base",
     "model_module_version": "1.2.0",
     "model_name": "LayoutModel",
     "state": {
      "_model_module": "@jupyter-widgets/base",
      "_model_module_version": "1.2.0",
      "_model_name": "LayoutModel",
      "_view_count": null,
      "_view_module": "@jupyter-widgets/base",
      "_view_module_version": "1.2.0",
      "_view_name": "LayoutView",
      "align_content": null,
      "align_items": null,
      "align_self": null,
      "border": null,
      "bottom": null,
      "display": null,
      "flex": null,
      "flex_flow": null,
      "grid_area": null,
      "grid_auto_columns": null,
      "grid_auto_flow": null,
      "grid_auto_rows": null,
      "grid_column": null,
      "grid_gap": null,
      "grid_row": null,
      "grid_template_areas": null,
      "grid_template_columns": null,
      "grid_template_rows": null,
      "height": null,
      "justify_content": null,
      "justify_items": null,
      "left": null,
      "margin": null,
      "max_height": null,
      "max_width": null,
      "min_height": null,
      "min_width": null,
      "object_fit": null,
      "object_position": null,
      "order": null,
      "overflow": null,
      "overflow_x": null,
      "overflow_y": null,
      "padding": null,
      "right": null,
      "top": null,
      "visibility": null,
      "width": null
     }
    },
    "cbc326b7830748a7991efd6504532935": {
     "model_module": "@jupyter-widgets/controls",
     "model_module_version": "1.5.0",
     "model_name": "HBoxModel",
     "state": {
      "_dom_classes": [],
      "_model_module": "@jupyter-widgets/controls",
      "_model_module_version": "1.5.0",
      "_model_name": "HBoxModel",
      "_view_count": null,
      "_view_module": "@jupyter-widgets/controls",
      "_view_module_version": "1.5.0",
      "_view_name": "HBoxView",
      "box_style": "",
      "children": [
       "IPY_MODEL_f9e47383d24c481ea4ac0d7f228e255c",
       "IPY_MODEL_12dac862ca8240da88c5a763fca22a83",
       "IPY_MODEL_d6ba87c661c44dbeb8a5b96963a185ce"
      ],
      "layout": "IPY_MODEL_96a2e55025ad42698d232b8139b40657"
     }
    },
    "d6ba87c661c44dbeb8a5b96963a185ce": {
     "model_module": "@jupyter-widgets/controls",
     "model_module_version": "1.5.0",
     "model_name": "HTMLModel",
     "state": {
      "_dom_classes": [],
      "_model_module": "@jupyter-widgets/controls",
      "_model_module_version": "1.5.0",
      "_model_name": "HTMLModel",
      "_view_count": null,
      "_view_module": "@jupyter-widgets/controls",
      "_view_module_version": "1.5.0",
      "_view_name": "HTMLView",
      "description": "",
      "description_tooltip": null,
      "layout": "IPY_MODEL_821b9c8db3d040f5971c4a2ae3a550ad",
      "placeholder": "​",
      "style": "IPY_MODEL_f67c99c403d2443fa857757390999948",
      "value": " 510M/510M [00:04&lt;00:00, 63.9MB/s]"
     }
    },
    "dac21ae2dd6e4c979eb028238e8ea2df": {
     "model_module": "@jupyter-widgets/base",
     "model_module_version": "1.2.0",
     "model_name": "LayoutModel",
     "state": {
      "_model_module": "@jupyter-widgets/base",
      "_model_module_version": "1.2.0",
      "_model_name": "LayoutModel",
      "_view_count": null,
      "_view_module": "@jupyter-widgets/base",
      "_view_module_version": "1.2.0",
      "_view_name": "LayoutView",
      "align_content": null,
      "align_items": null,
      "align_self": null,
      "border": null,
      "bottom": null,
      "display": null,
      "flex": null,
      "flex_flow": null,
      "grid_area": null,
      "grid_auto_columns": null,
      "grid_auto_flow": null,
      "grid_auto_rows": null,
      "grid_column": null,
      "grid_gap": null,
      "grid_row": null,
      "grid_template_areas": null,
      "grid_template_columns": null,
      "grid_template_rows": null,
      "height": null,
      "justify_content": null,
      "justify_items": null,
      "left": null,
      "margin": null,
      "max_height": null,
      "max_width": null,
      "min_height": null,
      "min_width": null,
      "object_fit": null,
      "object_position": null,
      "order": null,
      "overflow": null,
      "overflow_x": null,
      "overflow_y": null,
      "padding": null,
      "right": null,
      "top": null,
      "visibility": null,
      "width": null
     }
    },
    "f67c99c403d2443fa857757390999948": {
     "model_module": "@jupyter-widgets/controls",
     "model_module_version": "1.5.0",
     "model_name": "DescriptionStyleModel",
     "state": {
      "_model_module": "@jupyter-widgets/controls",
      "_model_module_version": "1.5.0",
      "_model_name": "DescriptionStyleModel",
      "_view_count": null,
      "_view_module": "@jupyter-widgets/base",
      "_view_module_version": "1.2.0",
      "_view_name": "StyleView",
      "description_width": ""
     }
    },
    "f787e299910f44798485f66c6de4ddef": {
     "model_module": "@jupyter-widgets/controls",
     "model_module_version": "1.5.0",
     "model_name": "HTMLModel",
     "state": {
      "_dom_classes": [],
      "_model_module": "@jupyter-widgets/controls",
      "_model_module_version": "1.5.0",
      "_model_name": "HTMLModel",
      "_view_count": null,
      "_view_module": "@jupyter-widgets/controls",
      "_view_module_version": "1.5.0",
      "_view_name": "HTMLView",
      "description": "",
      "description_tooltip": null,
      "layout": "IPY_MODEL_2b8d9cb5257f49028ac22f92a0fd841b",
      "placeholder": "​",
      "style": "IPY_MODEL_6af80f025a3a4ce19c9d3fd8649580dd",
      "value": "config.json: 100%"
     }
    },
    "f9e47383d24c481ea4ac0d7f228e255c": {
     "model_module": "@jupyter-widgets/controls",
     "model_module_version": "1.5.0",
     "model_name": "HTMLModel",
     "state": {
      "_dom_classes": [],
      "_model_module": "@jupyter-widgets/controls",
      "_model_module_version": "1.5.0",
      "_model_name": "HTMLModel",
      "_view_count": null,
      "_view_module": "@jupyter-widgets/controls",
      "_view_module_version": "1.5.0",
      "_view_name": "HTMLView",
      "description": "",
      "description_tooltip": null,
      "layout": "IPY_MODEL_53890dad54eb42858e1fb6908283c0c4",
      "placeholder": "​",
      "style": "IPY_MODEL_a11ecda67a2b4d97afc407bc08fb0f66",
      "value": "model.safetensors: 100%"
     }
    }
   }
  }
 },
 "nbformat": 4,
 "nbformat_minor": 0
}
